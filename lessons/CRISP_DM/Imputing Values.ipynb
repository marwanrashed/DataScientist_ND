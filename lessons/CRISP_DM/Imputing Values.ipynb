{
 "cells": [
  {
   "cell_type": "markdown",
   "metadata": {},
   "source": [
    "#### Imputing Values\n",
    "\n",
    "You now have some experience working with missing values, and imputing based on common methods.  Now, it is your turn to put your skills to work in being able to predict for rows even when they have NaN values.\n",
    "\n",
    "First, let's read in the necessary libraries, and get the results together from what you achieved in the previous attempt."
   ]
  },
  {
   "cell_type": "code",
   "execution_count": 1,
   "metadata": {},
   "outputs": [
    {
     "data": {
      "text/plain": "'The r-squared score for your model was 0.019170661803761924 on 645 values.'"
     },
     "execution_count": 1,
     "metadata": {},
     "output_type": "execute_result"
    }
   ],
   "source": [
    "import numpy as np\n",
    "import pandas as pd\n",
    "import matplotlib.pyplot as plt\n",
    "from sklearn.linear_model import LinearRegression\n",
    "from sklearn.model_selection import train_test_split\n",
    "from sklearn.metrics import r2_score, mean_squared_error\n",
    "import ImputingValues as t\n",
    "import seaborn as sns\n",
    "%matplotlib inline\n",
    "\n",
    "df = pd.read_csv('./survey_results_public.csv')\n",
    "df.head()\n",
    "\n",
    "#Only use quant variables and drop any rows with missing values\n",
    "num_vars = df[['Salary', 'CareerSatisfaction', 'HoursPerWeek', 'JobSatisfaction', 'StackOverflowSatisfaction']]\n",
    "df_dropna = num_vars.dropna(axis=0)\n",
    "\n",
    "#Split into explanatory and response variables\n",
    "X = df_dropna[['CareerSatisfaction', 'HoursPerWeek', 'JobSatisfaction', 'StackOverflowSatisfaction']]\n",
    "y = df_dropna['Salary']\n",
    "\n",
    "#Split into train and test\n",
    "X_train, X_test, y_train, y_test = train_test_split(X, y, test_size = .30, random_state=42) \n",
    "\n",
    "lm_model = LinearRegression(normalize=True) # Instantiate\n",
    "lm_model.fit(X_train, y_train) #Fit\n",
    "        \n",
    "#Predict and score the model\n",
    "y_test_preds = lm_model.predict(X_test) \n",
    "\"The r-squared score for your model was {} on {} values.\".format(r2_score(y_test, y_test_preds), len(y_test))"
   ]
  },
  {
   "cell_type": "markdown",
   "metadata": {},
   "source": [
    "#### Question 1\n",
    "\n",
    "**1.** As you may remember from an earlier analysis, there are many more salaries to predict than the values shown from the above code.  One of the ways we can start to make predictions on these values is by imputing items into the **X** matrix instead of dropping them.\n",
    "\n",
    "Using the **num_vars** dataframe drop the rows with missing values of the response (Salary) - store this new dataframe in **drop_sal_df**, then impute the values for all the other missing values with the mean of the column - store this in **fill_df**."
   ]
  },
  {
   "cell_type": "code",
   "execution_count": 3,
   "metadata": {},
   "outputs": [
    {
     "data": {
      "text/html": "<div>\n<style scoped>\n    .dataframe tbody tr th:only-of-type {\n        vertical-align: middle;\n    }\n\n    .dataframe tbody tr th {\n        vertical-align: top;\n    }\n\n    .dataframe thead th {\n        text-align: right;\n    }\n</style>\n<table border=\"1\" class=\"dataframe\">\n  <thead>\n    <tr style=\"text-align: right;\">\n      <th></th>\n      <th>Salary</th>\n      <th>CareerSatisfaction</th>\n      <th>HoursPerWeek</th>\n      <th>JobSatisfaction</th>\n      <th>StackOverflowSatisfaction</th>\n    </tr>\n  </thead>\n  <tbody>\n    <tr>\n      <td>2</td>\n      <td>113750.0</td>\n      <td>8.0</td>\n      <td>NaN</td>\n      <td>9.0</td>\n      <td>8.0</td>\n    </tr>\n    <tr>\n      <td>14</td>\n      <td>100000.0</td>\n      <td>8.0</td>\n      <td>NaN</td>\n      <td>8.0</td>\n      <td>8.0</td>\n    </tr>\n    <tr>\n      <td>17</td>\n      <td>130000.0</td>\n      <td>9.0</td>\n      <td>NaN</td>\n      <td>8.0</td>\n      <td>8.0</td>\n    </tr>\n    <tr>\n      <td>18</td>\n      <td>82500.0</td>\n      <td>5.0</td>\n      <td>NaN</td>\n      <td>3.0</td>\n      <td>NaN</td>\n    </tr>\n    <tr>\n      <td>22</td>\n      <td>100764.0</td>\n      <td>8.0</td>\n      <td>NaN</td>\n      <td>9.0</td>\n      <td>8.0</td>\n    </tr>\n  </tbody>\n</table>\n</div>",
      "text/plain": "      Salary  CareerSatisfaction  HoursPerWeek  JobSatisfaction  \\\n2   113750.0                 8.0           NaN              9.0   \n14  100000.0                 8.0           NaN              8.0   \n17  130000.0                 9.0           NaN              8.0   \n18   82500.0                 5.0           NaN              3.0   \n22  100764.0                 8.0           NaN              9.0   \n\n    StackOverflowSatisfaction  \n2                         8.0  \n14                        8.0  \n17                        8.0  \n18                        NaN  \n22                        8.0  "
     },
     "execution_count": 3,
     "metadata": {},
     "output_type": "execute_result"
    }
   ],
   "source": [
    "drop_sal_df = num_vars.dropna(subset = ['Salary'], how = 'any') #Drop the rows with missing salaries\n",
    "\n",
    "# test look\n",
    "drop_sal_df.head()"
   ]
  },
  {
   "cell_type": "code",
   "execution_count": 4,
   "metadata": {},
   "outputs": [
    {
     "name": "stdout",
     "output_type": "stream",
     "text": "Nice job! That looks right!\n"
    }
   ],
   "source": [
    "#Check that you dropped all the rows that have salary missing\n",
    "t.check_sal_dropped(drop_sal_df)"
   ]
  },
  {
   "cell_type": "code",
   "execution_count": 19,
   "metadata": {},
   "outputs": [
    {
     "data": {
      "text/html": "<div>\n<style scoped>\n    .dataframe tbody tr th:only-of-type {\n        vertical-align: middle;\n    }\n\n    .dataframe tbody tr th {\n        vertical-align: top;\n    }\n\n    .dataframe thead th {\n        text-align: right;\n    }\n</style>\n<table border=\"1\" class=\"dataframe\">\n  <thead>\n    <tr style=\"text-align: right;\">\n      <th></th>\n      <th>Salary</th>\n      <th>CareerSatisfaction</th>\n      <th>HoursPerWeek</th>\n      <th>JobSatisfaction</th>\n      <th>StackOverflowSatisfaction</th>\n    </tr>\n  </thead>\n  <tbody>\n    <tr>\n      <td>2</td>\n      <td>113750.0</td>\n      <td>8.0</td>\n      <td>2.447415</td>\n      <td>9.0</td>\n      <td>8.000000</td>\n    </tr>\n    <tr>\n      <td>14</td>\n      <td>100000.0</td>\n      <td>8.0</td>\n      <td>2.447415</td>\n      <td>8.0</td>\n      <td>8.000000</td>\n    </tr>\n    <tr>\n      <td>17</td>\n      <td>130000.0</td>\n      <td>9.0</td>\n      <td>2.447415</td>\n      <td>8.0</td>\n      <td>8.000000</td>\n    </tr>\n    <tr>\n      <td>18</td>\n      <td>82500.0</td>\n      <td>5.0</td>\n      <td>2.447415</td>\n      <td>3.0</td>\n      <td>8.442686</td>\n    </tr>\n    <tr>\n      <td>22</td>\n      <td>100764.0</td>\n      <td>8.0</td>\n      <td>2.447415</td>\n      <td>9.0</td>\n      <td>8.000000</td>\n    </tr>\n  </tbody>\n</table>\n</div>",
      "text/plain": "      Salary  CareerSatisfaction  HoursPerWeek  JobSatisfaction  \\\n2   113750.0                 8.0      2.447415              9.0   \n14  100000.0                 8.0      2.447415              8.0   \n17  130000.0                 9.0      2.447415              8.0   \n18   82500.0                 5.0      2.447415              3.0   \n22  100764.0                 8.0      2.447415              9.0   \n\n    StackOverflowSatisfaction  \n2                    8.000000  \n14                   8.000000  \n17                   8.000000  \n18                   8.442686  \n22                   8.000000  "
     },
     "execution_count": 19,
     "metadata": {},
     "output_type": "execute_result"
    }
   ],
   "source": [
    "fillMean = lambda col : col.fillna(col.mean())\n",
    "fill_df = drop_sal_df.apply(fillMean, axis = 0)#Fill all missing values with the mean of the column.\n",
    "\n",
    "# test look\n",
    "fill_df.head()"
   ]
  },
  {
   "cell_type": "code",
   "execution_count": 20,
   "metadata": {},
   "outputs": [
    {
     "name": "stdout",
     "output_type": "stream",
     "text": "Nice job! That looks right!\n"
    }
   ],
   "source": [
    "#Check your salary dropped, mean imputed datafram matches the solution\n",
    "t.check_fill_df(fill_df)"
   ]
  },
  {
   "cell_type": "markdown",
   "metadata": {},
   "source": [
    "#### Question 2\n",
    "\n",
    "**2.** Using **fill_df**, predict Salary based on all of the other quantitative variables in the dataset.  You can use the template above to assist in fitting your model:\n",
    "\n",
    "* Split the data into explanatory and response variables\n",
    "* Split the data into train and test (using seed of 42 and test_size of .30 as above)\n",
    "* Instantiate your linear model using normalized data\n",
    "* Fit your model on the training data\n",
    "* Predict using the test data\n",
    "* Compute a score for your model fit on all the data, and show how many rows you predicted for\n",
    "\n",
    "Use the tests to assure you completed the steps correctly."
   ]
  },
  {
   "cell_type": "code",
   "execution_count": 23,
   "metadata": {},
   "outputs": [
    {
     "data": {
      "text/plain": "'The r-squared score for your model was 0.03257139063404435 on 1503 values.'"
     },
     "execution_count": 23,
     "metadata": {},
     "output_type": "execute_result"
    }
   ],
   "source": [
    "#Split into explanatory and response variables\n",
    "X = fill_df[['CareerSatisfaction','HoursPerWeek','JobSatisfaction','StackOverflowSatisfaction']]\n",
    "Y = fill_df.Salary\n",
    "#Split into train and test\n",
    "X_train, X_test, Y_train, Y_test = train_test_split(X,Y, test_size = .30, random_state = 42) \n",
    "#Predict and score the model\n",
    "linearRegressionModel = LinearRegression(normalize=True)\n",
    "linearRegressionModel.fit(X_train, Y_train)\n",
    "Y_preds_test = linearRegressionModel.predict(X_test)\n",
    "#Rsquared and y_test\n",
    "rsquared_score =  r2_score (Y_test, Y_preds_test)#r2_score\n",
    "length_y_test = len(Y_test)#num in y_test\n",
    "\n",
    "\"The r-squared score for your model was {} on {} values.\".format(rsquared_score, length_y_test)"
   ]
  },
  {
   "cell_type": "code",
   "execution_count": 24,
   "metadata": {},
   "outputs": [
    {
     "name": "stdout",
     "output_type": "stream",
     "text": "Nice job! That looks right!\n"
    }
   ],
   "source": [
    "# Pass your r2_score, length of y_test to the below to check against the solution\n",
    "t.r2_y_test_check(rsquared_score, length_y_test)"
   ]
  },
  {
   "cell_type": "markdown",
   "metadata": {},
   "source": [
    "This model still isn't great.  Let's see if we can't improve it by using some of the other columns in the dataset."
   ]
  },
  {
   "cell_type": "code",
   "execution_count": null,
   "metadata": {
    "collapsed": true
   },
   "outputs": [],
   "source": []
  }
 ],
 "metadata": {
  "kernelspec": {
   "display_name": "Python 3",
   "language": "python",
   "name": "python3"
  },
  "language_info": {
   "codemirror_mode": {
    "name": "ipython",
    "version": 3
   },
   "file_extension": ".py",
   "mimetype": "text/x-python",
   "name": "python",
   "nbconvert_exporter": "python",
   "pygments_lexer": "ipython3",
   "version": "2.7.17-final"
  }
 },
 "nbformat": 4,
 "nbformat_minor": 2
}