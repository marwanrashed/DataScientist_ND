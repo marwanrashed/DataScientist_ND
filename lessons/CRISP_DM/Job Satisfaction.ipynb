{
 "cells": [
  {
   "cell_type": "markdown",
   "metadata": {},
   "source": [
    "#### Job Satisfaction\n",
    "\n",
    "In this notebook, you will be exploring job satisfaction according to the survey results.  Use the cells at the top of the notebook to explore as necessary, and use your findings to solve the questions at the bottom of the notebook."
   ]
  },
  {
   "cell_type": "code",
   "execution_count": 1,
   "metadata": {},
   "outputs": [
    {
     "data": {
      "text/html": "<div>\n<style scoped>\n    .dataframe tbody tr th:only-of-type {\n        vertical-align: middle;\n    }\n\n    .dataframe tbody tr th {\n        vertical-align: top;\n    }\n\n    .dataframe thead th {\n        text-align: right;\n    }\n</style>\n<table border=\"1\" class=\"dataframe\">\n  <thead>\n    <tr style=\"text-align: right;\">\n      <th></th>\n      <th>Respondent</th>\n      <th>Professional</th>\n      <th>ProgramHobby</th>\n      <th>Country</th>\n      <th>University</th>\n      <th>EmploymentStatus</th>\n      <th>FormalEducation</th>\n      <th>MajorUndergrad</th>\n      <th>HomeRemote</th>\n      <th>CompanySize</th>\n      <th>...</th>\n      <th>StackOverflowMakeMoney</th>\n      <th>Gender</th>\n      <th>HighestEducationParents</th>\n      <th>Race</th>\n      <th>SurveyLong</th>\n      <th>QuestionsInteresting</th>\n      <th>QuestionsConfusing</th>\n      <th>InterestedAnswers</th>\n      <th>Salary</th>\n      <th>ExpectedSalary</th>\n    </tr>\n  </thead>\n  <tbody>\n    <tr>\n      <td>0</td>\n      <td>1</td>\n      <td>Student</td>\n      <td>Yes, both</td>\n      <td>United States</td>\n      <td>No</td>\n      <td>Not employed, and not looking for work</td>\n      <td>Secondary school</td>\n      <td>NaN</td>\n      <td>NaN</td>\n      <td>NaN</td>\n      <td>...</td>\n      <td>Strongly disagree</td>\n      <td>Male</td>\n      <td>High school</td>\n      <td>White or of European descent</td>\n      <td>Strongly disagree</td>\n      <td>Strongly agree</td>\n      <td>Disagree</td>\n      <td>Strongly agree</td>\n      <td>NaN</td>\n      <td>NaN</td>\n    </tr>\n    <tr>\n      <td>1</td>\n      <td>2</td>\n      <td>Student</td>\n      <td>Yes, both</td>\n      <td>United Kingdom</td>\n      <td>Yes, full-time</td>\n      <td>Employed part-time</td>\n      <td>Some college/university study without earning ...</td>\n      <td>Computer science or software engineering</td>\n      <td>More than half, but not all, the time</td>\n      <td>20 to 99 employees</td>\n      <td>...</td>\n      <td>Strongly disagree</td>\n      <td>Male</td>\n      <td>A master's degree</td>\n      <td>White or of European descent</td>\n      <td>Somewhat agree</td>\n      <td>Somewhat agree</td>\n      <td>Disagree</td>\n      <td>Strongly agree</td>\n      <td>NaN</td>\n      <td>37500.0</td>\n    </tr>\n    <tr>\n      <td>2</td>\n      <td>3</td>\n      <td>Professional developer</td>\n      <td>Yes, both</td>\n      <td>United Kingdom</td>\n      <td>No</td>\n      <td>Employed full-time</td>\n      <td>Bachelor's degree</td>\n      <td>Computer science or software engineering</td>\n      <td>Less than half the time, but at least one day ...</td>\n      <td>10,000 or more employees</td>\n      <td>...</td>\n      <td>Disagree</td>\n      <td>Male</td>\n      <td>A professional degree</td>\n      <td>White or of European descent</td>\n      <td>Somewhat agree</td>\n      <td>Agree</td>\n      <td>Disagree</td>\n      <td>Agree</td>\n      <td>113750.0</td>\n      <td>NaN</td>\n    </tr>\n    <tr>\n      <td>3</td>\n      <td>4</td>\n      <td>Professional non-developer who sometimes write...</td>\n      <td>Yes, both</td>\n      <td>United States</td>\n      <td>No</td>\n      <td>Employed full-time</td>\n      <td>Doctoral degree</td>\n      <td>A non-computer-focused engineering discipline</td>\n      <td>Less than half the time, but at least one day ...</td>\n      <td>10,000 or more employees</td>\n      <td>...</td>\n      <td>Disagree</td>\n      <td>Male</td>\n      <td>A doctoral degree</td>\n      <td>White or of European descent</td>\n      <td>Agree</td>\n      <td>Agree</td>\n      <td>Somewhat agree</td>\n      <td>Strongly agree</td>\n      <td>NaN</td>\n      <td>NaN</td>\n    </tr>\n    <tr>\n      <td>4</td>\n      <td>5</td>\n      <td>Professional developer</td>\n      <td>Yes, I program as a hobby</td>\n      <td>Switzerland</td>\n      <td>No</td>\n      <td>Employed full-time</td>\n      <td>Master's degree</td>\n      <td>Computer science or software engineering</td>\n      <td>Never</td>\n      <td>10 to 19 employees</td>\n      <td>...</td>\n      <td>NaN</td>\n      <td>NaN</td>\n      <td>NaN</td>\n      <td>NaN</td>\n      <td>NaN</td>\n      <td>NaN</td>\n      <td>NaN</td>\n      <td>NaN</td>\n      <td>NaN</td>\n      <td>NaN</td>\n    </tr>\n  </tbody>\n</table>\n<p>5 rows × 154 columns</p>\n</div>",
      "text/plain": "   Respondent                                       Professional  \\\n0           1                                            Student   \n1           2                                            Student   \n2           3                             Professional developer   \n3           4  Professional non-developer who sometimes write...   \n4           5                             Professional developer   \n\n                ProgramHobby         Country      University  \\\n0                  Yes, both   United States              No   \n1                  Yes, both  United Kingdom  Yes, full-time   \n2                  Yes, both  United Kingdom              No   \n3                  Yes, both   United States              No   \n4  Yes, I program as a hobby     Switzerland              No   \n\n                         EmploymentStatus  \\\n0  Not employed, and not looking for work   \n1                      Employed part-time   \n2                      Employed full-time   \n3                      Employed full-time   \n4                      Employed full-time   \n\n                                     FormalEducation  \\\n0                                   Secondary school   \n1  Some college/university study without earning ...   \n2                                  Bachelor's degree   \n3                                    Doctoral degree   \n4                                    Master's degree   \n\n                                  MajorUndergrad  \\\n0                                            NaN   \n1       Computer science or software engineering   \n2       Computer science or software engineering   \n3  A non-computer-focused engineering discipline   \n4       Computer science or software engineering   \n\n                                          HomeRemote  \\\n0                                                NaN   \n1              More than half, but not all, the time   \n2  Less than half the time, but at least one day ...   \n3  Less than half the time, but at least one day ...   \n4                                              Never   \n\n                CompanySize  ... StackOverflowMakeMoney Gender  \\\n0                       NaN  ...      Strongly disagree   Male   \n1        20 to 99 employees  ...      Strongly disagree   Male   \n2  10,000 or more employees  ...               Disagree   Male   \n3  10,000 or more employees  ...               Disagree   Male   \n4        10 to 19 employees  ...                    NaN    NaN   \n\n  HighestEducationParents                          Race         SurveyLong  \\\n0             High school  White or of European descent  Strongly disagree   \n1       A master's degree  White or of European descent     Somewhat agree   \n2   A professional degree  White or of European descent     Somewhat agree   \n3       A doctoral degree  White or of European descent              Agree   \n4                     NaN                           NaN                NaN   \n\n  QuestionsInteresting QuestionsConfusing InterestedAnswers    Salary  \\\n0       Strongly agree           Disagree    Strongly agree       NaN   \n1       Somewhat agree           Disagree    Strongly agree       NaN   \n2                Agree           Disagree             Agree  113750.0   \n3                Agree     Somewhat agree    Strongly agree       NaN   \n4                  NaN                NaN               NaN       NaN   \n\n   ExpectedSalary  \n0             NaN  \n1         37500.0  \n2             NaN  \n3             NaN  \n4             NaN  \n\n[5 rows x 154 columns]"
     },
     "execution_count": 1,
     "metadata": {},
     "output_type": "execute_result"
    }
   ],
   "source": [
    "import pandas as pd\n",
    "import numpy as np\n",
    "import JobSatisfaction as t\n",
    "import matplotlib.pyplot as plt\n",
    "%matplotlib inline\n",
    "\n",
    "df = pd.read_csv('./survey_results_public.csv')\n",
    "schema = pd.read_csv('./survey_results_schema.csv')\n",
    "df.head()"
   ]
  },
  {
   "cell_type": "code",
   "execution_count": 3,
   "metadata": {},
   "outputs": [
    {
     "data": {
      "text/plain": "0.20149722542142184"
     },
     "execution_count": 3,
     "metadata": {},
     "output_type": "execute_result"
    }
   ],
   "source": [
    "#Space for your code\n",
    "df.JobSatisfaction.isnull().sum() / df.shape[0]"
   ]
  },
  {
   "cell_type": "code",
   "execution_count": 4,
   "metadata": {},
   "outputs": [
    {
     "data": {
      "text/plain": "array([nan,  9.,  3.,  8.,  6.,  7.,  5.,  4., 10.,  2.,  0.,  1.])"
     },
     "execution_count": 4,
     "metadata": {},
     "output_type": "execute_result"
    }
   ],
   "source": [
    "df.JobSatisfaction.unique()"
   ]
  },
  {
   "cell_type": "code",
   "execution_count": 12,
   "metadata": {},
   "outputs": [],
   "source": [
    "df['EmploymentStatus'] =  df['EmploymentStatus'].astype('category') \n",
    "\n"
   ]
  },
  {
   "cell_type": "code",
   "execution_count": 13,
   "metadata": {},
   "outputs": [
    {
     "data": {
      "text/plain": "Employed full-time                                      13655\nIndependent contractor, freelancer, or self-employed     1866\nEmployed part-time                                       1168\nNot employed, and not looking for work                   1066\nNot employed, but looking for work                        906\nI prefer not to say                                       381\nRetired                                                    60\nName: EmploymentStatus, dtype: int64"
     },
     "execution_count": 13,
     "metadata": {},
     "output_type": "execute_result"
    }
   ],
   "source": [
    "df['EmploymentStatus'].value_counts()"
   ]
  },
  {
   "cell_type": "code",
   "execution_count": 17,
   "metadata": {},
   "outputs": [
    {
     "data": {
      "text/plain": "EmploymentStatus\nEmployed full-time                                      6.980608\nEmployed part-time                                      6.846154\nI prefer not to say                                          NaN\nIndependent contractor, freelancer, or self-employed    7.231985\nNot employed, and not looking for work                       NaN\nNot employed, but looking for work                           NaN\nRetired                                                      NaN\nName: JobSatisfaction, dtype: float64"
     },
     "execution_count": 17,
     "metadata": {},
     "output_type": "execute_result"
    }
   ],
   "source": [
    "df.groupby(by=['EmploymentStatus'])['JobSatisfaction'].mean()"
   ]
  },
  {
   "cell_type": "code",
   "execution_count": 18,
   "metadata": {},
   "outputs": [
    {
     "data": {
      "text/plain": "20 to 99 employees          3214\n100 to 499 employees        2858\n10,000 or more employees    1998\n10 to 19 employees          1544\n1,000 to 4,999 employees    1482\nFewer than 10 employees     1456\n500 to 999 employees         946\n5,000 to 9,999 employees     606\nI don't know                 311\nI prefer not to answer       238\nName: CompanySize, dtype: int64"
     },
     "execution_count": 18,
     "metadata": {},
     "output_type": "execute_result"
    }
   ],
   "source": [
    "df['CompanySize'].value_counts()"
   ]
  },
  {
   "cell_type": "code",
   "execution_count": 20,
   "metadata": {},
   "outputs": [
    {
     "data": {
      "text/plain": "CompanySize\n10,000 or more employees    6.793617\n5,000 to 9,999 employees    6.832155\n1,000 to 4,999 employees    6.908506\n20 to 99 employees          6.997039\nFewer than 10 employees     7.025719\n100 to 499 employees        7.029324\n500 to 999 employees        7.029967\n10 to 19 employees          7.035739\nI don't know                7.054622\nI prefer not to answer      7.284946\nName: JobSatisfaction, dtype: float64"
     },
     "execution_count": 20,
     "metadata": {},
     "output_type": "execute_result"
    }
   ],
   "source": [
    "df.groupby(by=['CompanySize'])['JobSatisfaction'].mean().sort_values()"
   ]
  },
  {
   "cell_type": "code",
   "execution_count": null,
   "metadata": {},
   "outputs": [],
   "source": []
  },
  {
   "cell_type": "code",
   "execution_count": 24,
   "metadata": {},
   "outputs": [
    {
     "data": {
      "text/plain": "array([nan, 'More than half, but not all, the time',\n       'Less than half the time, but at least one day each week', 'Never',\n       \"All or almost all the time (I'm full-time remote)\",\n       \"It's complicated\", 'A few days each month', 'About half the time'],\n      dtype=object)"
     },
     "execution_count": 24,
     "metadata": {},
     "output_type": "execute_result"
    }
   ],
   "source": [
    "#More space for code\n",
    "df['HomeRemote'].unique()"
   ]
  },
  {
   "cell_type": "code",
   "execution_count": 25,
   "metadata": {},
   "outputs": [
    {
     "data": {
      "text/plain": "HomeRemote\nNever                                                      6.697127\nIt's complicated                                           6.942053\nMore than half, but not all, the time                      6.973684\nA few days each month                                      7.096694\nAbout half the time                                        7.125737\nLess than half the time, but at least one day each week    7.143786\nAll or almost all the time (I'm full-time remote)          7.405421\nName: JobSatisfaction, dtype: float64"
     },
     "execution_count": 25,
     "metadata": {},
     "output_type": "execute_result"
    }
   ],
   "source": [
    "#Additional space for your additional code\n",
    "df.groupby(by=['HomeRemote'])['JobSatisfaction'].mean().sort_values()"
   ]
  },
  {
   "cell_type": "code",
   "execution_count": 26,
   "metadata": {},
   "outputs": [
    {
     "data": {
      "text/plain": "FormalEducation\nBachelor's degree                                                    6.900293\nPrimary/elementary school                                            6.946237\nMaster's degree                                                      6.977356\nI never completed any formal education                               7.000000\nProfessional degree                                                  7.075893\nSome college/university study without earning a bachelor's degree    7.151268\nI prefer not to answer                                               7.211679\nSecondary school                                                     7.219512\nDoctoral degree                                                      7.438492\nName: JobSatisfaction, dtype: float64"
     },
     "execution_count": 26,
     "metadata": {},
     "output_type": "execute_result"
    }
   ],
   "source": [
    "#Feel free to create new cells as you need them\n",
    "df.groupby(by=['FormalEducation'])['JobSatisfaction'].mean().sort_values()"
   ]
  },
  {
   "cell_type": "markdown",
   "metadata": {},
   "source": [
    "#### Question 1\n",
    "\n",
    "**1.** Use the space above to assist in matching each variable (**a**, **b**, **c**, **d**, **e**, **f**, **g**, or **h** ) as the appropriate key that describes the value in the **job_sol_1** dictionary."
   ]
  },
  {
   "cell_type": "code",
   "execution_count": 22,
   "metadata": {},
   "outputs": [
    {
     "name": "stdout",
     "output_type": "stream",
     "text": "Nice job! That's what we found as well!\n"
    }
   ],
   "source": [
    "a = 0.734\n",
    "b = 0.2014\n",
    "c = 'full-time'\n",
    "d = 'contractors'\n",
    "e = 'retired'\n",
    "f = 'yes'\n",
    "g = 'no'\n",
    "h = 'hard to tell'\n",
    "\n",
    "job_sol_1 = {'The proportion of missing values in the Job Satisfaction column': b,\n",
    "             'According to EmploymentStatus, which group has the highest average job satisfaction?': d, \n",
    "             'In general, do smaller companies appear to have employees with higher job satisfaction?': f}\n",
    "             \n",
    "t.jobsat_check1(job_sol_1)"
   ]
  },
  {
   "cell_type": "markdown",
   "metadata": {},
   "source": [
    "#### Question 2\n",
    "\n",
    "**2.** Use the space above to assist in matching each variable (**a**, **b**, **c** ) as the appropriate key that describes the value in the **job_sol_2** dictionary. Notice you can have the same letter appear more than once."
   ]
  },
  {
   "cell_type": "code",
   "execution_count": 27,
   "metadata": {},
   "outputs": [
    {
     "name": "stdout",
     "output_type": "stream",
     "text": "Nice job! That's what we found as well!\n"
    }
   ],
   "source": [
    "a = 'yes'\n",
    "b = 'no'\n",
    "c = 'hard to tell'\n",
    "\n",
    "job_sol_2 = {'Do individuals who program outside of work appear to have higher JobSatisfaction?': a,\n",
    "             'Does flexibility to work outside of the office appear to have an influence on JobSatisfaction?': a, \n",
    "             'A friend says a Doctoral degree increases the chance of having job you like, does this seem true?': a}\n",
    "             \n",
    "t.jobsat_check2(job_sol_2)"
   ]
  },
  {
   "cell_type": "code",
   "execution_count": null,
   "metadata": {},
   "outputs": [],
   "source": []
  }
 ],
 "metadata": {
  "kernelspec": {
   "display_name": "Python 3",
   "language": "python",
   "name": "python3"
  },
  "language_info": {
   "codemirror_mode": {
    "name": "ipython",
    "version": 3
   },
   "file_extension": ".py",
   "mimetype": "text/x-python",
   "name": "python",
   "nbconvert_exporter": "python",
   "pygments_lexer": "ipython3",
   "version": "2.7.17-final"
  }
 },
 "nbformat": 4,
 "nbformat_minor": 2
}